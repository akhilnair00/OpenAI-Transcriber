{
 "cells": [
  {
   "cell_type": "code",
   "execution_count": 1,
   "metadata": {},
   "outputs": [
    {
     "name": "stdout",
     "output_type": "stream",
     "text": [
      "Collecting moviepy\n",
      "  Downloading moviepy-1.0.3.tar.gz (388 kB)\n",
      "     ---------------------------------------- 0.0/388.3 kB ? eta -:--:--\n",
      "     - -------------------------------------- 10.2/388.3 kB ? eta -:--:--\n",
      "     --- --------------------------------- 41.0/388.3 kB 487.6 kB/s eta 0:00:01\n",
      "     ----------- -------------------------- 112.6/388.3 kB 1.1 MB/s eta 0:00:01\n",
      "     ---------------------------- --------- 286.7/388.3 kB 2.2 MB/s eta 0:00:01\n",
      "     -------------------------------------- 388.3/388.3 kB 2.4 MB/s eta 0:00:00\n",
      "  Preparing metadata (setup.py): started\n",
      "  Preparing metadata (setup.py): finished with status 'done'\n",
      "Collecting decorator<5.0,>=4.0.2 (from moviepy)\n",
      "  Downloading decorator-4.4.2-py2.py3-none-any.whl.metadata (4.2 kB)\n",
      "Collecting imageio<3.0,>=2.5 (from moviepy)\n",
      "  Downloading imageio-2.35.1-py3-none-any.whl.metadata (4.9 kB)\n",
      "Collecting imageio_ffmpeg>=0.2.0 (from moviepy)\n",
      "  Downloading imageio_ffmpeg-0.5.1-py3-none-win_amd64.whl.metadata (1.6 kB)\n",
      "Requirement already satisfied: tqdm<5.0,>=4.11.2 in c:\\users\\akhil\\appdata\\local\\programs\\python\\python312\\lib\\site-packages (from moviepy) (4.66.5)\n",
      "Requirement already satisfied: numpy>=1.17.3 in c:\\users\\akhil\\appdata\\local\\programs\\python\\python312\\lib\\site-packages (from moviepy) (1.26.4)\n",
      "Requirement already satisfied: requests<3.0,>=2.8.1 in c:\\users\\akhil\\appdata\\local\\programs\\python\\python312\\lib\\site-packages (from moviepy) (2.32.3)\n",
      "Collecting proglog<=1.0.0 (from moviepy)\n",
      "  Downloading proglog-0.1.10-py3-none-any.whl.metadata (639 bytes)\n",
      "Requirement already satisfied: pillow>=8.3.2 in c:\\users\\akhil\\appdata\\local\\programs\\python\\python312\\lib\\site-packages (from imageio<3.0,>=2.5->moviepy) (10.4.0)\n",
      "Requirement already satisfied: setuptools in c:\\users\\akhil\\appdata\\local\\programs\\python\\python312\\lib\\site-packages (from imageio_ffmpeg>=0.2.0->moviepy) (72.1.0)\n",
      "Requirement already satisfied: charset-normalizer<4,>=2 in c:\\users\\akhil\\appdata\\local\\programs\\python\\python312\\lib\\site-packages (from requests<3.0,>=2.8.1->moviepy) (3.3.2)\n",
      "Requirement already satisfied: idna<4,>=2.5 in c:\\users\\akhil\\appdata\\local\\programs\\python\\python312\\lib\\site-packages (from requests<3.0,>=2.8.1->moviepy) (3.7)\n",
      "Requirement already satisfied: urllib3<3,>=1.21.1 in c:\\users\\akhil\\appdata\\local\\programs\\python\\python312\\lib\\site-packages (from requests<3.0,>=2.8.1->moviepy) (2.2.2)\n",
      "Requirement already satisfied: certifi>=2017.4.17 in c:\\users\\akhil\\appdata\\local\\programs\\python\\python312\\lib\\site-packages (from requests<3.0,>=2.8.1->moviepy) (2024.7.4)\n",
      "Requirement already satisfied: colorama in c:\\users\\akhil\\appdata\\roaming\\python\\python312\\site-packages (from tqdm<5.0,>=4.11.2->moviepy) (0.4.6)\n",
      "Downloading decorator-4.4.2-py2.py3-none-any.whl (9.2 kB)\n",
      "Downloading imageio-2.35.1-py3-none-any.whl (315 kB)\n",
      "   ---------------------------------------- 0.0/315.4 kB ? eta -:--:--\n",
      "   ---------------------------------------- 315.4/315.4 kB 6.5 MB/s eta 0:00:00\n",
      "Downloading imageio_ffmpeg-0.5.1-py3-none-win_amd64.whl (22.6 MB)\n",
      "   ---------------------------------------- 0.0/22.6 MB ? eta -:--:--\n",
      "    --------------------------------------- 0.3/22.6 MB 10.2 MB/s eta 0:00:03\n",
      "   - -------------------------------------- 0.7/22.6 MB 8.7 MB/s eta 0:00:03\n",
      "   -- ------------------------------------- 1.5/22.6 MB 11.9 MB/s eta 0:00:02\n",
      "   --- ------------------------------------ 1.8/22.6 MB 10.4 MB/s eta 0:00:03\n",
      "   ---- ----------------------------------- 2.3/22.6 MB 10.5 MB/s eta 0:00:02\n",
      "   ----- ---------------------------------- 2.9/22.6 MB 11.0 MB/s eta 0:00:02\n",
      "   ----- ---------------------------------- 3.3/22.6 MB 10.7 MB/s eta 0:00:02\n",
      "   ------ --------------------------------- 3.9/22.6 MB 11.2 MB/s eta 0:00:02\n",
      "   ------- -------------------------------- 4.4/22.6 MB 11.2 MB/s eta 0:00:02\n",
      "   -------- ------------------------------- 4.6/22.6 MB 11.2 MB/s eta 0:00:02\n",
      "   -------- ------------------------------- 4.6/22.6 MB 11.2 MB/s eta 0:00:02\n",
      "   --------- ------------------------------ 5.6/22.6 MB 11.6 MB/s eta 0:00:02\n",
      "   ---------- ----------------------------- 6.0/22.6 MB 11.0 MB/s eta 0:00:02\n",
      "   ----------- ---------------------------- 6.4/22.6 MB 10.8 MB/s eta 0:00:02\n",
      "   ------------ --------------------------- 6.9/22.6 MB 11.0 MB/s eta 0:00:02\n",
      "   ------------- -------------------------- 7.5/22.6 MB 11.2 MB/s eta 0:00:02\n",
      "   -------------- ------------------------- 8.1/22.6 MB 11.3 MB/s eta 0:00:02\n",
      "   --------------- ------------------------ 8.7/22.6 MB 11.4 MB/s eta 0:00:02\n",
      "   ---------------- ----------------------- 9.3/22.6 MB 11.7 MB/s eta 0:00:02\n",
      "   ----------------- ---------------------- 9.7/22.6 MB 11.5 MB/s eta 0:00:02\n",
      "   ----------------- ---------------------- 10.1/22.6 MB 11.3 MB/s eta 0:00:02\n",
      "   ------------------ --------------------- 10.4/22.6 MB 11.1 MB/s eta 0:00:02\n",
      "   ------------------- -------------------- 11.0/22.6 MB 11.5 MB/s eta 0:00:02\n",
      "   -------------------- ------------------- 11.5/22.6 MB 11.3 MB/s eta 0:00:01\n",
      "   --------------------- ------------------ 12.0/22.6 MB 11.5 MB/s eta 0:00:01\n",
      "   ---------------------- ----------------- 12.6/22.6 MB 11.9 MB/s eta 0:00:01\n",
      "   ----------------------- ---------------- 13.1/22.6 MB 11.7 MB/s eta 0:00:01\n",
      "   ------------------------ --------------- 13.8/22.6 MB 12.1 MB/s eta 0:00:01\n",
      "   ------------------------- -------------- 14.5/22.6 MB 12.4 MB/s eta 0:00:01\n",
      "   -------------------------- ------------- 15.1/22.6 MB 13.1 MB/s eta 0:00:01\n",
      "   --------------------------- ------------ 15.6/22.6 MB 12.6 MB/s eta 0:00:01\n",
      "   ---------------------------- ----------- 16.3/22.6 MB 12.8 MB/s eta 0:00:01\n",
      "   ----------------------------- ---------- 16.9/22.6 MB 13.1 MB/s eta 0:00:01\n",
      "   ------------------------------ --------- 17.4/22.6 MB 13.1 MB/s eta 0:00:01\n",
      "   ------------------------------- -------- 18.0/22.6 MB 13.1 MB/s eta 0:00:01\n",
      "   -------------------------------- ------- 18.6/22.6 MB 13.1 MB/s eta 0:00:01\n",
      "   --------------------------------- ------ 19.0/22.6 MB 13.1 MB/s eta 0:00:01\n",
      "   ---------------------------------- ----- 19.5/22.6 MB 13.1 MB/s eta 0:00:01\n",
      "   ----------------------------------- ---- 20.2/22.6 MB 13.4 MB/s eta 0:00:01\n",
      "   ------------------------------------- -- 21.0/22.6 MB 13.9 MB/s eta 0:00:01\n",
      "   ------------------------------------- -- 21.4/22.6 MB 14.2 MB/s eta 0:00:01\n",
      "   ---------------------------------------  22.1/22.6 MB 14.2 MB/s eta 0:00:01\n",
      "   ---------------------------------------  22.6/22.6 MB 14.6 MB/s eta 0:00:01\n",
      "   ---------------------------------------- 22.6/22.6 MB 13.9 MB/s eta 0:00:00\n",
      "Downloading proglog-0.1.10-py3-none-any.whl (6.1 kB)\n",
      "Building wheels for collected packages: moviepy\n",
      "  Building wheel for moviepy (setup.py): started\n",
      "  Building wheel for moviepy (setup.py): finished with status 'done'\n",
      "  Created wheel for moviepy: filename=moviepy-1.0.3-py3-none-any.whl size=110754 sha256=a5c3a30d383b9f2331b4182a6851d2d8a09878ee306ca18e8638eeae630b72e7\n",
      "  Stored in directory: c:\\users\\akhil\\appdata\\local\\pip\\cache\\wheels\\df\\ba\\4b\\0917fc0c8833c8ba7016565fc975b74c67bc8610806e930272\n",
      "Successfully built moviepy\n",
      "Installing collected packages: imageio_ffmpeg, imageio, decorator, proglog, moviepy\n",
      "  Attempting uninstall: decorator\n",
      "    Found existing installation: decorator 5.1.1\n",
      "    Uninstalling decorator-5.1.1:\n",
      "      Successfully uninstalled decorator-5.1.1\n",
      "Successfully installed decorator-4.4.2 imageio-2.35.1 imageio_ffmpeg-0.5.1 moviepy-1.0.3 proglog-0.1.10\n",
      "Note: you may need to restart the kernel to use updated packages.\n"
     ]
    },
    {
     "name": "stderr",
     "output_type": "stream",
     "text": [
      "  WARNING: The scripts imageio_download_bin.exe and imageio_remove_bin.exe are installed in 'c:\\Users\\akhil\\AppData\\Local\\Programs\\Python\\Python312\\Scripts' which is not on PATH.\n",
      "  Consider adding this directory to PATH or, if you prefer to suppress this warning, use --no-warn-script-location.\n",
      "\n",
      "[notice] A new release of pip is available: 24.0 -> 24.2\n",
      "[notice] To update, run: python.exe -m pip install --upgrade pip\n"
     ]
    }
   ],
   "source": [
    "%pip install moviepy"
   ]
  },
  {
   "cell_type": "code",
   "execution_count": 2,
   "metadata": {},
   "outputs": [
    {
     "name": "stdout",
     "output_type": "stream",
     "text": [
      "pip 24.0 from c:\\Users\\akhil\\AppData\\Local\\Programs\\Python\\Python312\\Lib\\site-packages\\pip (python 3.12)\n",
      "\n",
      "Note: you may need to restart the kernel to use updated packages.\n"
     ]
    }
   ],
   "source": [
    "pip --version"
   ]
  }
 ],
 "metadata": {
  "kernelspec": {
   "display_name": "Python 3",
   "language": "python",
   "name": "python3"
  },
  "language_info": {
   "codemirror_mode": {
    "name": "ipython",
    "version": 3
   },
   "file_extension": ".py",
   "mimetype": "text/x-python",
   "name": "python",
   "nbconvert_exporter": "python",
   "pygments_lexer": "ipython3",
   "version": "3.12.3"
  }
 },
 "nbformat": 4,
 "nbformat_minor": 2
}
